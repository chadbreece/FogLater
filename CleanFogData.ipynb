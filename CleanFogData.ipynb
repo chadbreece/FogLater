{
 "cells": [
  {
   "cell_type": "code",
   "execution_count": 1,
   "id": "e280a669-86e6-449a-a4d2-8bb4796b3549",
   "metadata": {},
   "outputs": [
    {
     "name": "stdout",
     "output_type": "stream",
     "text": [
      "/Users/juanmeriles/Documents/GitHub/FogLater\n"
     ]
    },
    {
     "name": "stderr",
     "output_type": "stream",
     "text": [
      "/Users/juanmeriles/Library/Python/3.9/lib/python/site-packages/IPython/core/magics/osm.py:417: UserWarning: using dhist requires you to install the `pickleshare` library.\n",
      "  self.shell.db['dhist'] = compress_dhist(dhist)[-100:]\n"
     ]
    }
   ],
   "source": [
    "from PIL import Image\n",
    "import os\n",
    "import numpy as np\n",
    "\n",
    "%cd '/Users/juanmeriles/Library/Mobile Documents/com~apple~CloudDocs/Documents/GitHub/FogLater'"
   ]
  },
  {
   "cell_type": "code",
   "execution_count": 3,
   "id": "ac90e8a8-571b-41b2-9fce-1904fc7efc02",
   "metadata": {},
   "outputs": [
    {
     "name": "stdout",
     "output_type": "stream",
     "text": [
      "The brightest image is 20241018.185117.png with an average pixel value of 60.36442565917969\n"
     ]
    }
   ],
   "source": [
    "#Baseline Image\n",
    "day = '20241018'\n",
    "pathToImage = \"../../data/day/\"\n",
    "files = os.listdir(pathToImage+day)\n",
    "brightestImage = 0\n",
    "brightestImageIndex = 0\n",
    "brightest = 0\n",
    "count = 0 \n",
    "\n",
    "for file in files:\n",
    "    with Image.open(pathToImage+day+'/'+file) as im:\n",
    "        pixels = list(im.getdata())\n",
    "        red, green, blue = im.split()\n",
    "        brightness = np.average(red)\n",
    "        if brightness > brightest:\n",
    "            brightestImage = file\n",
    "            brightestImageIndex = count\n",
    "            brightest = brightness\n",
    "    count += 1\n",
    "\n",
    "print(f\"The brightest image is {file} with an average pixel value of {brightness}\")\n",
    "with Image.open(pathToImage+day+'/'+files[brightestImageIndex]) as im:\n",
    "    im.show()"
   ]
  },
  {
   "cell_type": "code",
   "execution_count": 11,
   "id": "65e171b9-ed59-4450-863d-e9be8992c417",
   "metadata": {},
   "outputs": [
    {
     "name": "stdout",
     "output_type": "stream",
     "text": [
      "/Users/juanmeriles/Documents/GitHub/FogLater\n"
     ]
    },
    {
     "name": "stderr",
     "output_type": "stream",
     "text": [
      "Traceback (most recent call last):\n",
      "  File \"<string>\", line 1, in <module>\n",
      "KeyboardInterrupt\n"
     ]
    },
    {
     "ename": "KeyboardInterrupt",
     "evalue": "",
     "output_type": "error",
     "traceback": [
      "\u001b[0;31m---------------------------------------------------------------------------\u001b[0m",
      "\u001b[0;31mKeyboardInterrupt\u001b[0m                         Traceback (most recent call last)",
      "Cell \u001b[0;32mIn[11], line 33\u001b[0m\n\u001b[1;32m     31\u001b[0m brightDiff \u001b[38;5;241m=\u001b[39m \u001b[38;5;28mint\u001b[39m(brightDiff \u001b[38;5;241m/\u001b[39m count)\n\u001b[1;32m     32\u001b[0m \u001b[38;5;66;03m#print(brightDiff)\u001b[39;00m\n\u001b[0;32m---> 33\u001b[0m custom_pixels \u001b[38;5;241m=\u001b[39m [(r\u001b[38;5;241m+\u001b[39mbrightDiff, g\u001b[38;5;241m+\u001b[39mbrightDiff, b\u001b[38;5;241m+\u001b[39mbrightDiff) \u001b[38;5;28;01mfor\u001b[39;00m (r, g, b) \u001b[38;5;129;01min\u001b[39;00m pixels]\n\u001b[1;32m     34\u001b[0m custom_img\u001b[38;5;241m.\u001b[39mputdata(custom_pixels)\n\u001b[1;32m     35\u001b[0m custom_img\u001b[38;5;241m.\u001b[39msave(\u001b[38;5;124m'\u001b[39m\u001b[38;5;124m../../BrightImages/\u001b[39m\u001b[38;5;124m'\u001b[39m \u001b[38;5;241m+\u001b[39m file)\n",
      "Cell \u001b[0;32mIn[11], line 33\u001b[0m, in \u001b[0;36m<listcomp>\u001b[0;34m(.0)\u001b[0m\n\u001b[1;32m     31\u001b[0m brightDiff \u001b[38;5;241m=\u001b[39m \u001b[38;5;28mint\u001b[39m(brightDiff \u001b[38;5;241m/\u001b[39m count)\n\u001b[1;32m     32\u001b[0m \u001b[38;5;66;03m#print(brightDiff)\u001b[39;00m\n\u001b[0;32m---> 33\u001b[0m custom_pixels \u001b[38;5;241m=\u001b[39m [(r\u001b[38;5;241m+\u001b[39mbrightDiff, g\u001b[38;5;241m+\u001b[39m\u001b[43mbrightDiff\u001b[49m, b\u001b[38;5;241m+\u001b[39mbrightDiff) \u001b[38;5;28;01mfor\u001b[39;00m (r, g, b) \u001b[38;5;129;01min\u001b[39;00m pixels]\n\u001b[1;32m     34\u001b[0m custom_img\u001b[38;5;241m.\u001b[39mputdata(custom_pixels)\n\u001b[1;32m     35\u001b[0m custom_img\u001b[38;5;241m.\u001b[39msave(\u001b[38;5;124m'\u001b[39m\u001b[38;5;124m../../BrightImages/\u001b[39m\u001b[38;5;124m'\u001b[39m \u001b[38;5;241m+\u001b[39m file)\n",
      "\u001b[0;31mKeyboardInterrupt\u001b[0m: "
     ]
    }
   ],
   "source": [
    "pathToImage = \"../../data/day/\"\n",
    "dateList = ['20241012','20241013','20241014','20241015','20241016','20241017','20241018']\n",
    "#dateList = ['20241012']\n",
    "print(os.getcwd())\n",
    "allImages = []\n",
    "cornerPixels = [0,511,512*511,512*512]\n",
    "\n",
    "with Image.open(pathToImage+day+'/'+files[brightestImageIndex]) as controlIm:\n",
    "    red, green, blue = im.split()\n",
    "    controlIntensity = red.getdata()\n",
    "\n",
    "for day in dateList:\n",
    "    \n",
    "    files = os.listdir(pathToImage+day)\n",
    "    for file in files:\n",
    "        brightDiff = 0\n",
    "        with Image.open(pathToImage+day+'/'+file) as im:\n",
    "            pixels = list(im.getdata())\n",
    "            allImages.append(list(im.getdata()))\n",
    "            red, green, blue = im.split()\n",
    "            custom_img = Image.new(im.mode, im.size)\n",
    "            custom_pixels = pixels\n",
    "            imageIntensity = red.getdata()\n",
    "\n",
    "        count = 1\n",
    "        for i in range(len(imageIntensity)):\n",
    "            if imageIntensity[i] < controlIntensity[i]:\n",
    "                brightDiff += controlIntensity[i] - imageIntensity[i]\n",
    "                count += 1\n",
    "\n",
    "        brightDiff = int(brightDiff / count)\n",
    "        #print(brightDiff)\n",
    "        custom_pixels = [(r+brightDiff, g+brightDiff, b+brightDiff) for (r, g, b) in pixels]\n",
    "        custom_img.putdata(custom_pixels)\n",
    "        custom_img.save('../../BrightImages/' + file)\n",
    "        #custom_img.show()\n",
    "        \n"
   ]
  },
  {
   "cell_type": "code",
   "execution_count": 63,
   "id": "767611ac-cf8c-456f-8464-b5b0889e461f",
   "metadata": {},
   "outputs": [],
   "source": [
    "import cv2\n",
    "import numpy as np\n",
    "import matplotlib.pyplot as plt\n",
    "from PIL import Image\n",
    "\n",
    "day = '20241017'\n",
    "pathToImage = \"../../data/day/\"\n",
    "files = os.listdir(pathToImage + day)\n",
    "files.sort()\n",
    "kernel = None\n",
    "\n",
    "background_subtractor = cv2.createBackgroundSubtractorMOG2()\n",
    "\n",
    "for file in files:\n",
    "    with Image.open(pathToImage+day+'/'+file) as Im:\n",
    "        cv2.startWindowThread()\n",
    "        frame = np.array(Im)\n",
    "        foreground_mask = background_subtractor.apply(frame);\n",
    "        _, foreground_mask = cv2.threshold(foreground_mask, 250, 255, cv2.THRESH_BINARY)\n",
    "\n",
    "        foreground_mask = cv2.erode(foreground_mask, kernel, iterations = 1)\n",
    "        foreground_mask = cv2.dilate(foreground_mask, kernel, iterations = 2)\n",
    "\n",
    "        contours, _ = cv2.findContours(foreground_mask, cv2.RETR_EXTERNAL, cv2.CHAIN_APPROX_SIMPLE)\n",
    "\n",
    "        frameCopy = Im\n",
    "         # We need to be sure about the area of the contours i.e. it should be higher than 400 to reduce the noise.\n",
    "        for cnt in contours:\n",
    "            foregroundPart = cv2.bitwise_and(frame, frame, mask=foreground_mask)\n",
    "\n",
    "            stacked_frame = np.hstack((frame, foregroundPart, frameCopy))\n",
    "            cv2.imwrite('../../data/maskedData/' + file,foregroundPart)\n",
    "\n",
    "            cv2.imshow('Original Frame, Extracted Foreground and Detected Cars', cv2.resize(stacked_frame, None, fx=0.5, fy=0.5))\n",
    "            \n",
    "            k = cv2.waitKey(1) & 0xff\n",
    "\n",
    "            if k == ord('q'):\n",
    "                break\n",
    "    \n",
    "cv2.destroyAllWindows()\n",
    "\n"
   ]
  },
  {
   "cell_type": "code",
   "execution_count": null,
   "id": "2742035b-486d-4954-a598-d56a29f1bd29",
   "metadata": {},
   "outputs": [],
   "source": []
  }
 ],
 "metadata": {
  "kernelspec": {
   "display_name": "fog",
   "language": "python",
   "name": "fog"
  },
  "language_info": {
   "codemirror_mode": {
    "name": "ipython",
    "version": 3
   },
   "file_extension": ".py",
   "mimetype": "text/x-python",
   "name": "python",
   "nbconvert_exporter": "python",
   "pygments_lexer": "ipython3",
   "version": "3.9.6"
  }
 },
 "nbformat": 4,
 "nbformat_minor": 5
}
