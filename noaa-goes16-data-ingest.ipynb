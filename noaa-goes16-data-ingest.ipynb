{
 "cells": [
  {
   "cell_type": "code",
   "execution_count": 3,
   "id": "6a7e12d7",
   "metadata": {},
   "outputs": [
    {
     "name": "stdout",
     "output_type": "stream",
     "text": [
      "^C\n"
     ]
    }
   ],
   "source": [
    "!aws s3 cp --recursive --no-sign-request s3://noaa-goes16/ABI-L2-MCMIPF/2023/001/ ./fog_data/ABI-L2-MCMIPF/2023/"
   ]
  },
  {
   "cell_type": "code",
   "execution_count": 7,
   "id": "5b1b9d51",
   "metadata": {},
   "outputs": [
    {
     "name": "stdout",
     "output_type": "stream",
     "text": [
      "\n",
      "Total Objects: 0\n",
      "   Total Size: 0 Bytes\n"
     ]
    }
   ],
   "source": [
    "!aws s3 ls --summarize --human-readable --recursive --no-sign-request s3://noaa-goes16/ABI-L2-MCMIPF/2023/*"
   ]
  },
  {
   "cell_type": "code",
   "execution_count": null,
   "id": "788cf547",
   "metadata": {},
   "outputs": [],
   "source": [
    "import boto3\n",
    "\n",
    "def get_folder_size(bucket, prefix):\n",
    "    total_size = 0\n",
    "    for obj in boto3.resource('s3').Bucket(bucket).objects.filter(Prefix=prefix):\n",
    "        total_size += obj.size\n",
    "    return total_size\n",
    "\n"
   ]
  }
 ],
 "metadata": {
  "kernelspec": {
   "display_name": "Python 3 (ipykernel)",
   "language": "python",
   "name": "python3"
  },
  "language_info": {
   "codemirror_mode": {
    "name": "ipython",
    "version": 3
   },
   "file_extension": ".py",
   "mimetype": "text/x-python",
   "name": "python",
   "nbconvert_exporter": "python",
   "pygments_lexer": "ipython3",
   "version": "3.11.5"
  }
 },
 "nbformat": 4,
 "nbformat_minor": 5
}
